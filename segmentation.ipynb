{
 "cells": [
  {
   "cell_type": "markdown",
   "metadata": {},
   "source": [
    "# K-Means based Image Segmentation"
   ]
  },
  {
   "cell_type": "markdown",
   "metadata": {},
   "source": [
    "```\n",
    "Objective:\n",
    "```\n",
    "The idea is to take the image of a room and understand/classify the various objects present in it. The objects are then masked with a colour"
   ]
  },
  {
   "cell_type": "markdown",
   "metadata": {},
   "source": [
    "```\n",
    "Approach:\n",
    "```\n",
    "K Means based clustering is used to perform the segmentation since it's an Unsupervised approach and doesn't need a pre-trained model. This approach makes the solution work with different domains"
   ]
  },
  {
   "cell_type": "markdown",
   "metadata": {},
   "source": [
    "# Imports"
   ]
  },
  {
   "cell_type": "code",
   "execution_count": 1,
   "metadata": {},
   "outputs": [],
   "source": [
    "import matplotlib.pyplot as plt\n",
    "import matplotlib.colors as clr\n",
    "from matplotlib.pyplot import imshow\n",
    "import numpy as np\n",
    "import numpy.ma as ma\n",
    "from sklearn.cluster import KMeans\n",
    "from PIL import Image\n",
    "from skimage.color import rgb2hsv\n",
    "import os"
   ]
  },
  {
   "cell_type": "markdown",
   "metadata": {},
   "source": [
    "# Constants"
   ]
  },
  {
   "cell_type": "code",
   "execution_count": 2,
   "metadata": {},
   "outputs": [],
   "source": [
    "DIR_SKT = './sketches/'\n",
    "DIR_INP = './room_scenes/'\n",
    "DIR_OUT = './input/'\n",
    "DIR_TRN = DIR_OUT+'train/'\n",
    "DIR_TST = DIR_OUT+'test/'\n",
    "S_RATIO = 0.8\n",
    "NO_CLUS = 5\n",
    "\n",
    "# RGB Values for various classes\n",
    "cls = list()\n",
    "for color in clr.BASE_COLORS.values():\n",
    "    cls.append(list(round(i*255) for i in color))\n",
    "\n",
    "# RGB value for a Masked Pixel\n",
    "msk = [0,0,0] #Fully transparent"
   ]
  },
  {
   "cell_type": "markdown",
   "metadata": {},
   "source": [
    "# Functions"
   ]
  },
  {
   "cell_type": "code",
   "execution_count": 3,
   "metadata": {},
   "outputs": [],
   "source": [
    "# Function to delete all files in the output folder\n",
    "def deleteFiles(fpath):\n",
    "    \"\"\"\n",
    "    Delete Files in the output directory\n",
    "    \"\"\"\n",
    "    files = os.listdir(fpath)\n",
    "    for f in files:\n",
    "        os.remove(fpath+f)\n",
    "\n",
    "# Execute KMeans clustering on the input\n",
    "def doClustering(inp):\n",
    "    \"\"\"\n",
    "    Perform KMeans clustering on the input\n",
    "    \"\"\"\n",
    "    vec = np.uint8(inp.reshape((-1,3)))\n",
    "    kmn = KMeans(random_state=42, init='random', n_clusters=NO_CLUS)\n",
    "    return kmn.fit_predict(vec)\n",
    "\n",
    "# Function to perform Segmentation on an Image\n",
    "def doSeg4Image(inp, doMasking=False):\n",
    "    \"\"\"\n",
    "    Perform Segmentation on an Image Array (256,256,3)\n",
    "    \"\"\"\n",
    "    lbl = doClustering(inp)\n",
    "    out = list()\n",
    "    rng = (NO_CLUS+1) if doMasking==True else 1\n",
    "    for iter in range(rng):\n",
    "        cpy = np.zeros((lbl.shape[0],3), dtype=np.uint8)\n",
    "        for i, j in enumerate(lbl):\n",
    "            cpy[i] = cls[j] if iter==0 else cls[0] if (iter-1)==j else cls[j]\n",
    "        out.append(np.reshape(cpy, (256,256,3)))\n",
    "    return out\n",
    "\n",
    "#Function to do Segmentation for files in a Folder\n",
    "def doSegmentation(inputFolder, trainPath, testPath, ratio=S_RATIO):\n",
    "    \"\"\"\n",
    "    Perform Segmentation on all Files in a Directory\n",
    "    \"\"\"\n",
    "    files = os.listdir(inputFolder)\n",
    "    threshold = round(number=len(files)*ratio)\n",
    "    for idx, fil in enumerate(files):\n",
    "        f = trainPath if idx<=threshold else testPath\n",
    "        im0 = Image.open(fp=inputFolder+fil)\n",
    "        im1 = im0.resize(size=(256,256))\n",
    "        inp = np.array(im1)\n",
    "        out = doSeg4Image(inp)\n",
    "        for idx, val in enumerate(out):\n",
    "            fin = np.concatenate((inp,val), axis=1)\n",
    "            img = Image.fromarray(fin)\n",
    "            img.save(fp=f+str(idx)+fil)"
   ]
  },
  {
   "cell_type": "markdown",
   "metadata": {},
   "source": [
    "# Core Logic"
   ]
  },
  {
   "cell_type": "code",
   "execution_count": 5,
   "metadata": {},
   "outputs": [],
   "source": [
    "# Delete all the files in the output folders\n",
    "os.makedirs(DIR_TRN, exist_ok=True)\n",
    "os.makedirs(DIR_TST, exist_ok=True)\n",
    "deleteFiles(DIR_TRN)\n",
    "deleteFiles(DIR_TST)\n",
    "doSegmentation(DIR_INP, DIR_TRN, DIR_TST)\n",
    "doSegmentation(DIR_SKT, DIR_TRN, DIR_TST, -1)"
   ]
  }
 ],
 "metadata": {
  "kernelspec": {
   "display_name": "Python 3.8.10 64-bit",
   "language": "python",
   "name": "python3"
  },
  "language_info": {
   "codemirror_mode": {
    "name": "ipython",
    "version": 3
   },
   "file_extension": ".py",
   "mimetype": "text/x-python",
   "name": "python",
   "nbconvert_exporter": "python",
   "pygments_lexer": "ipython3",
   "version": "3.8.10"
  },
  "orig_nbformat": 4,
  "vscode": {
   "interpreter": {
    "hash": "916dbcbb3f70747c44a77c7bcd40155683ae19c65e1c03b4aa3499c5328201f1"
   }
  }
 },
 "nbformat": 4,
 "nbformat_minor": 2
}
